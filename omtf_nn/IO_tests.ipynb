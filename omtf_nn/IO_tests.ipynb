{
 "cells": [
  {
   "cell_type": "markdown",
   "id": "d4e108fe-72a6-4053-bec2-af1a368594f2",
   "metadata": {},
   "source": [
    "## Environment setup"
   ]
  },
  {
   "cell_type": "code",
   "execution_count": 1,
   "id": "d419c1d5-26ec-42d6-a6fb-e076dd903666",
   "metadata": {},
   "outputs": [],
   "source": [
    "import glob\n",
    "import importlib"
   ]
  },
  {
   "cell_type": "markdown",
   "id": "d5e9384f-3b1f-4210-b8cf-9cda27c00a8a",
   "metadata": {},
   "source": [
    "## Networks definitions and adaptations"
   ]
  },
  {
   "cell_type": "code",
   "execution_count": 2,
   "id": "9ef53a8d-4d7c-4d1d-b914-8429d43fa8bb",
   "metadata": {},
   "outputs": [
    {
     "name": "stdout",
     "output_type": "stream",
     "text": [
      "Classic NN definitions:\n",
      "dense_layer1_size: 128\n",
      "dense_layer2_size: 64\n",
      "dense_layer3_size: 48\n",
      "dense_layer4_size: 1\n",
      "------------------------\n",
      "LUT NN definitions:\n",
      "layer1_lut_size 1024\n",
      "layer2_lut_size 256\n",
      "layer3_lut_size 32\n",
      "layer2_lutRangesCnt 16\n",
      "layer2_input_offset 8.0\n",
      "------------------------\n"
     ]
    }
   ],
   "source": [
    "from architecture_definitions import *\n",
    "\n",
    "oneOverPt = False \n",
    "lut_nn = True\n",
    "output_type = 0\n",
    "last_input_is_bias = True\n",
    "\n",
    "if output_type == 1:\n",
    "    layer3_neurons = 3\n",
    "    loss_fn = custom_loss3\n",
    "else: \n",
    "    output_cnt = 1\n",
    "    layer3_neurons = 1\n",
    "    loss_fn = 'mae'\n",
    "        \n",
    "if not last_input_is_bias:\n",
    "    networkInputSize =  nLayers\n",
    "    layer2_lutRangesCnt = 1\n",
    "    layer2_input_offset = None \n",
    "\n",
    "print_Classic_NN()  \n",
    "print_LUT_NN()  "
   ]
  },
  {
   "cell_type": "markdown",
   "id": "630c86e0-bf1f-4a56-abf8-5762ea739a8f",
   "metadata": {},
   "source": [
    "### Classic NN data read test"
   ]
  },
  {
   "cell_type": "code",
   "execution_count": 3,
   "id": "bf4a5d8d-4f72-4f24-97c0-951b4f650537",
   "metadata": {},
   "outputs": [
    {
     "name": "stdout",
     "output_type": "stream",
     "text": [
      "Reading data from files:\n"
     ]
    },
    {
     "name": "stderr",
     "output_type": "stream",
     "text": [
      "2023-04-19 09:07:18.331605: E tensorflow/stream_executor/cuda/cuda_driver.cc:271] failed call to cuInit: CUDA_ERROR_NO_DEVICE: no CUDA-capable device is detected\n",
      "2023-04-19 09:07:18.331625: I tensorflow/stream_executor/cuda/cuda_diagnostics.cc:169] retrieving CUDA diagnostic information for host: 4bdbaaa67b74\n",
      "2023-04-19 09:07:18.331631: I tensorflow/stream_executor/cuda/cuda_diagnostics.cc:176] hostname: 4bdbaaa67b74\n",
      "2023-04-19 09:07:18.331669: I tensorflow/stream_executor/cuda/cuda_diagnostics.cc:200] libcuda reported version is: 530.30.2\n",
      "2023-04-19 09:07:18.331682: I tensorflow/stream_executor/cuda/cuda_diagnostics.cc:204] kernel reported version is: 530.30.2\n",
      "2023-04-19 09:07:18.331687: I tensorflow/stream_executor/cuda/cuda_diagnostics.cc:310] kernel version seems to match DSO: 530.30.2\n",
      "2023-04-19 09:07:18.332462: I tensorflow/core/platform/cpu_feature_guard.cc:193] This TensorFlow binary is optimized with oneAPI Deep Neural Network Library (oneDNN) to use the following CPU instructions in performance-critical operations:  AVX2 FMA\n",
      "To enable them in other operations, rebuild TensorFlow with the appropriate compiler flags.\n"
     ]
    },
    {
     "name": "stdout",
     "output_type": "stream",
     "text": [
      "Execution time: 0.0634194349986501\n",
      "Reading data from files:\n",
      "Execution time: 0.05183963105082512\n",
      "CPU times: user 1.82 s, sys: 1.08 s, total: 2.89 s\n",
      "Wall time: 1.83 s\n"
     ]
    }
   ],
   "source": [
    "%%time\n",
    "import io_functions as io\n",
    "importlib.reload(io)\n",
    "\n",
    "trainDataDir = \"/scratch_ssd/akalinow/ProgrammingProjects/MachineLearning/OMTF/data/18_12_2020/\"   \n",
    "testDataDir = \"/scratch_ssd/akalinow/ProgrammingProjects/MachineLearning/OMTF/data/18_12_2020/\" \n",
    "\n",
    "testFileNames = glob.glob(trainDataDir+'OMTFHits_pats0x0003_newerSample_files_1_100_chunk_0.tfrecord.gzip')\n",
    "trainFileNames = glob.glob(testDataDir+'OMTFHits_pats0x0003_oldSample_files_*_chunk_0.tfrecord.gzip')\n",
    "\n",
    "trainDataDir = \"/scratch_cmsse/alibordi/data/\"\n",
    "testDataDir = \"/scratch_cmsse/alibordi/data/\"\n",
    "testFileNames = glob.glob(trainDataDir+'*15Feb*tfrecord.gzip')\n",
    "trainFileNames = glob.glob(testDataDir+'*22Feb*.tfrecord.gzip')\n",
    "\n",
    "batchSize = 4096\n",
    "nEpochs = 1\n",
    "\n",
    "dataset = io.get_Classic_NN_dataset(batchSize, nEpochs, trainFileNames, isTrain=True)\n",
    "io.reading_benchmark(dataset.take(100))\n",
    "io.dumpOneEvent(dataset)\n",
    "\n",
    "dataset = io.get_Classic_NN_dataset(batchSize, nEpochs, testFileNames, isTrain=False)\n",
    "io.reading_benchmark(dataset.take(100))\n",
    "io.dumpOneEvent(dataset)"
   ]
  },
  {
   "cell_type": "markdown",
   "id": "13288d0e-f4ea-4d20-a343-ca3a8f69bf5d",
   "metadata": {},
   "source": [
    "### LUT NN data read test"
   ]
  },
  {
   "cell_type": "code",
   "execution_count": 6,
   "id": "4ca31a9e-cb5e-4bec-b674-45c3c29e7bbb",
   "metadata": {},
   "outputs": [
    {
     "name": "stdout",
     "output_type": "stream",
     "text": [
      "Reading data from files:\n",
      "/scratch_cmsse/alibordi/data/test/SingleMu_iPtX_Feb15_Unfiltered.tfrecord.gzip\n",
      "Execution time: 4.842330540006515\n",
      "features.shape: (4096, 19)\n",
      "len(labels) 1\n",
      "labels[0].shape: (4096,)\n",
      "weights.shape: (4096,)\n",
      "Hits in OMTF Layers:\n",
      " [  64.   1023.     63.     63.12   62.25   63.25 1023.   1023.   1023.\n",
      " 1023.   1023.     63.5    63.     63.25   61.75 1023.   1023.   1023.\n",
      "  144.  ]\n",
      "ptLabels:\n",
      " 34.8\n",
      "weights:\n",
      " 1.0\n",
      "Reading data from files:\n",
      "/scratch_cmsse/alibordi/data/training/SingleMu_OneOverPt_April4_chunk_0_filtered.tfrecord.gzip\n",
      "/scratch_cmsse/alibordi/data/training/SingleMu_iPtX_April4_chunk_0_filtered.tfrecord.gzip\n",
      "/scratch_cmsse/alibordi/data/training/SingleMu_iPtX_Feb22_chunk_0_filtered.tfrecord.gzip\n",
      "/scratch_cmsse/alibordi/data/training/SingleMu_OneOverPt_Feb22_chunk_0_filtered.tfrecord.gzip\n",
      "/scratch_cmsse/alibordi/data/training/SingleMu_iPtX_Feb15_chunk_0_filtered.tfrecord.gzip\n",
      "/scratch_cmsse/alibordi/data/training/SingleMu_OneOverPt_Feb15_chunk_0_filtered.tfrecord.gzip\n",
      "Execution time: 4.727717328001745\n",
      "features.shape: (4096, 19)\n",
      "len(labels) 6\n",
      "labels[0].shape: (4096,)\n",
      "weights.shape: (4096,)\n",
      "Hits in OMTF Layers:\n",
      " [1023.  1023.   320.   322.8  322.8  322.2 1023.  1023.  1023.  1023.\n",
      " 1023.   317.   321.   320.5  322.  1023.  1023.  1023.   160. ]\n",
      "ptLabels:\n",
      " 10.88\n",
      "weights:\n",
      " 1.0\n",
      "CPU times: user 29.7 s, sys: 7.3 s, total: 37 s\n",
      "Wall time: 10 s\n"
     ]
    }
   ],
   "source": [
    "%%time\n",
    "import io_functions as io\n",
    "importlib.reload(io)\n",
    "\n",
    "trainDataDir = \"/scratch_ssd/akalinow/ProgrammingProjects/MachineLearning/OMTF/data/18_12_2020/\"   \n",
    "testDataDir = \"/scratch_ssd/akalinow/ProgrammingProjects/MachineLearning/OMTF/data/18_12_2020/\" \n",
    "\n",
    "testFileNames = glob.glob(trainDataDir+'OMTFHits_pats0x0003_newerSample_files_1_100_chunk_0.tfrecord.gzip')\n",
    "trainFileNames = glob.glob(trainDataDir+'OMTFHits_pats0x0003_oldSample_files_*_chunk_0.tfrecord.gzip')\n",
    "\n",
    "trainDataDir = \"/scratch_cmsse/alibordi/data/training/\"\n",
    "testDataDir = \"/scratch_cmsse/alibordi/data/test/\"\n",
    "testFileNames = glob.glob(trainDataDir+'*tfrecord.gzip')\n",
    "trainFileNames = glob.glob(testDataDir+'*iPtX*.tfrecord.gzip')\n",
    "\n",
    "batchSize = 4096\n",
    "nEpochs = 1\n",
    "\n",
    "dataset = io.get_LUT_NN_dataset(batchSize, nEpochs, trainFileNames, \n",
    "                                nRefLayers=nRefLayers,\n",
    "                                layer1_lut_size=layer1_lut_size,\n",
    "                                layer2_lut_size=layer2_lut_size,\n",
    "                                layer2_lutRangesCnt=layer2_lutRangesCnt,\n",
    "                                last_input_is_bias=last_input_is_bias,\n",
    "                                rangeFactor=rangeFactor,\n",
    "                                isTrain=True)\n",
    "io.reading_benchmark(dataset.take(100))\n",
    "io.dumpOneEvent(dataset)\n",
    "\n",
    "dataset = io.get_LUT_NN_dataset(batchSize, nEpochs, testFileNames, \n",
    "                                nRefLayers=nRefLayers,\n",
    "                                layer1_lut_size=layer1_lut_size,\n",
    "                                layer2_lut_size=layer2_lut_size,\n",
    "                                layer2_lutRangesCnt=layer2_lutRangesCnt,\n",
    "                                last_input_is_bias=last_input_is_bias,\n",
    "                                rangeFactor=rangeFactor,\n",
    "                                isTrain=False)\n",
    "io.reading_benchmark(dataset.take(100))\n",
    "io.dumpOneEvent(dataset)"
   ]
  },
  {
   "cell_type": "code",
   "execution_count": 12,
   "id": "8d5d87f0-3d25-4377-88ff-bc49f4202307",
   "metadata": {},
   "outputs": [
    {
     "name": "stdout",
     "output_type": "stream",
     "text": [
      "Index(['eventNum', 'muonEvent', 'muonPt', 'muonEta', 'muonPhi', 'muonCharge',\n",
      "       'muonDxy', 'muonRho', 'omtfPt', 'omtfEta', 'omtfPhi', 'omtfCharge',\n",
      "       'omtfHwEta', 'omtfProcessor', 'omtfScore', 'omtfQuality',\n",
      "       'omtfRefLayer', 'omtfRefHitNum', 'omtfFiredLayers', 'killed', 'hits',\n",
      "       'phiDist_0', 'phiDist_1', 'phiDist_2', 'phiDist_3', 'phiDist_4',\n",
      "       'phiDist_5', 'phiDist_6', 'phiDist_7', 'phiDist_8', 'phiDist_9',\n",
      "       'phiDist_10', 'phiDist_11', 'phiDist_12', 'phiDist_13', 'phiDist_14',\n",
      "       'phiDist_15', 'phiDist_16', 'phiDist_17'],\n",
      "      dtype='object')\n"
     ]
    },
    {
     "data": {
      "text/plain": [
       "<AxesSubplot:>"
      ]
     },
     "execution_count": 12,
     "metadata": {},
     "output_type": "execute_result"
    },
    {
     "data": {
      "image/png": "[encoded data removed]",
      "text/plain": [
       "<Figure size 432x288 with 1 Axes>"
      ]
     },
     "metadata": {
      "needs_background": "light"
     },
     "output_type": "display_data"
    }
   ],
   "source": [
    "import pandas as pd\n",
    "import numpy as np\n",
    "fileName = \"/scratch_cmsse/alibordi/data/training/df.parquet_SingleMu_OneOverPt_Feb22_chunk_0.gzip\"\n",
    "df = pd.read_parquet(fileName)\n",
    "print(df.columns)\n",
    "df.describe()\n",
    "df[\"muonEta\"].hist()"
   ]
  }
 ],
 "metadata": {
  "kernelspec": {
   "display_name": "Python 3 (ipykernel)",
   "language": "python",
   "name": "python3"
  },
  "language_info": {
   "codemirror_mode": {
    "name": "ipython",
    "version": 3
   },
   "file_extension": ".py",
   "mimetype": "text/x-python",
   "name": "python",
   "nbconvert_exporter": "python",
   "pygments_lexer": "ipython3",
   "version": "3.8.10"
  }
 },
 "nbformat": 4,
 "nbformat_minor": 5
}
