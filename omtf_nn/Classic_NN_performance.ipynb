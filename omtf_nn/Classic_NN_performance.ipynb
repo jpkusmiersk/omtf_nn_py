{
 "cells": [
  {
   "cell_type": "markdown",
   "id": "77168881-c7af-4f7e-9173-8504c40f1d9d",
   "metadata": {},
   "source": [
    "## Environment setup"
   ]
  },
  {
   "cell_type": "code",
   "execution_count": 1,
   "id": "c07350e0-28d8-4ab0-b836-b6d46382c923",
   "metadata": {},
   "outputs": [],
   "source": [
    "import glob, os\n",
    "from functools import partial\n",
    "import importlib\n",
    "\n",
    "import tensorflow as tf"
   ]
  },
  {
   "cell_type": "markdown",
   "id": "a807d376-d2c8-4d44-a6e8-a21f0c1a69bc",
   "metadata": {},
   "source": [
    "### Test data set preparation"
   ]
  },
  {
   "cell_type": "code",
   "execution_count": 2,
   "id": "05447793-4028-457b-8559-8d3f07811e5e",
   "metadata": {},
   "outputs": [
    {
     "name": "stdout",
     "output_type": "stream",
     "text": [
      "Reading data from files:\n",
      "/scratch_cmsse/alibordi/data/SingleMu_iPt0_Feb22_chunk_0_filtered.tfrecord.gzip\n",
      "/scratch_cmsse/alibordi/data/SingleMu_iPt1_Feb22_chunk_0_filtered.tfrecord.gzip\n",
      "/scratch_cmsse/alibordi/data/SingleMu_iPt2_Feb22_chunk_0_filtered.tfrecord.gzip\n"
     ]
    },
    {
     "name": "stderr",
     "output_type": "stream",
     "text": [
      "2023-04-04 10:41:55.678256: E tensorflow/stream_executor/cuda/cuda_driver.cc:271] failed call to cuInit: CUDA_ERROR_NO_DEVICE: no CUDA-capable device is detected\n",
      "2023-04-04 10:41:55.678277: I tensorflow/stream_executor/cuda/cuda_diagnostics.cc:169] retrieving CUDA diagnostic information for host: b5f08f9c1f34\n",
      "2023-04-04 10:41:55.678282: I tensorflow/stream_executor/cuda/cuda_diagnostics.cc:176] hostname: b5f08f9c1f34\n",
      "2023-04-04 10:41:55.678347: I tensorflow/stream_executor/cuda/cuda_diagnostics.cc:200] libcuda reported version is: 470.161.3\n",
      "2023-04-04 10:41:55.678360: I tensorflow/stream_executor/cuda/cuda_diagnostics.cc:204] kernel reported version is: 470.161.3\n",
      "2023-04-04 10:41:55.678365: I tensorflow/stream_executor/cuda/cuda_diagnostics.cc:310] kernel version seems to match DSO: 470.161.3\n",
      "2023-04-04 10:41:55.678555: I tensorflow/core/platform/cpu_feature_guard.cc:193] This TensorFlow binary is optimized with oneAPI Deep Neural Network Library (oneDNN) to use the following CPU instructions in performance-critical operations:  AVX2 FMA\n",
      "To enable them in other operations, rebuild TensorFlow with the appropriate compiler flags.\n"
     ]
    }
   ],
   "source": [
    "import io_functions as io\n",
    "importlib.reload(io)\n",
    "\n",
    "from architecture_definitions import *\n",
    "\n",
    "batchSize = 4096\n",
    "nEpochs=1\n",
    "\n",
    "testDataDir = \"/scratch_ssd/akalinow/ProgrammingProjects/MachineLearning/OMTF/data/18_12_2020/\" \n",
    "testFileNames = glob.glob(testDataDir+'OMTFHits_pats0x0003_newerSample_files_1_100_chunk_0.tfrecord.gzip')\n",
    "\n",
    "testDataDir = \"/scratch_cmsse/alibordi/data/\"\n",
    "testFileNames = glob.glob(testDataDir+'*iPt*Feb22*tfrecord.gzip')\n",
    "\n",
    "dataset = io.get_Classic_NN_dataset(batchSize, nEpochs, testFileNames, isTrain=False)"
   ]
  },
  {
   "cell_type": "markdown",
   "id": "a9563e67-8306-48a1-be30-c165e6164065",
   "metadata": {},
   "source": [
    "### Load selected model version"
   ]
  },
  {
   "cell_type": "code",
   "execution_count": 3,
   "id": "d9adb735-2991-4d9d-8485-c3688ac87146",
   "metadata": {},
   "outputs": [
    {
     "name": "stdout",
     "output_type": "stream",
     "text": [
      "Using training set: 2023_Apr_04_08_57_11_classic_128_64_48_1\n",
      "Model: \"sequential\"\n",
      "_________________________________________________________________\n",
      " Layer (type)                Output Shape              Param #   \n",
      "=================================================================\n",
      " pt_layer_1 (Dense)          (None, 128)               4864      \n",
      "                                                                 \n",
      " pt_layer_2 (Dense)          (None, 64)                8256      \n",
      "                                                                 \n",
      " pt_layer_3 (Dense)          (None, 48)                3120      \n",
      "                                                                 \n",
      " dense (Dense)               (None, 1)                 49        \n",
      "                                                                 \n",
      "=================================================================\n",
      "Total params: 16,289\n",
      "Trainable params: 16,289\n",
      "Non-trainable params: 0\n",
      "_________________________________________________________________\n"
     ]
    }
   ],
   "source": [
    "import utility_functions as utils\n",
    "importlib.reload(utils)\n",
    "\n",
    "trainingSet = utils.getLatestModelPath(pattern=\"classic\")\n",
    "print(\"Using training set:\",trainingSet)\n",
    "\n",
    "job_dir = \"results/\"+trainingSet\n",
    "os.makedirs(job_dir, exist_ok=True)\n",
    "\n",
    "plot_dir = job_dir + \"/figures\"\n",
    "os.makedirs(plot_dir, exist_ok=True)\n",
    "\n",
    "checkpoint_path = \"training/\"+trainingSet\n",
    "\n",
    "model = tf.keras.models.load_model(checkpoint_path)\n",
    "model.summary()"
   ]
  },
  {
   "cell_type": "markdown",
   "id": "73be0a22-0216-4bae-8132-18b49a9ca38c",
   "metadata": {},
   "source": [
    "### Run the model and put the result into Pandas DataFrame"
   ]
  },
  {
   "cell_type": "code",
   "execution_count": 4,
   "id": "f25cabc2-ece4-4356-83cf-03096e7012fa",
   "metadata": {},
   "outputs": [
    {
     "name": "stdout",
     "output_type": "stream",
     "text": [
      "ptGenPtRec.shape (800, 800)\n",
      "xedges.shape (801,)\n",
      "yedges.shape (801,)\n"
     ]
    },
    {
     "data": {
      "image/png": "[encoded data removed]",
      "text/plain": [
       "<Figure size 504x504 with 1 Axes>"
      ]
     },
     "metadata": {
      "needs_background": "light"
     },
     "output_type": "display_data"
    }
   ],
   "source": [
    "import utility_functions as utils\n",
    "importlib.reload(utils)\n",
    "\n",
    "import plotting_functions as plf\n",
    "importlib.reload(plf)\n",
    "\n",
    "modelAnswerPostProc = partial(utils.classicNNAnswerPostProc, output_type=output_type)\n",
    "\n",
    "df = utils.df\n",
    "\n",
    "for aBatch in dataset: \n",
    "    df = utils.fillPandasDataset(aBatch, df, model, modelAnswerPostProc)  \n",
    "    \n",
    "df = df[np.abs(df['GEN_eta'])<1.24]\n",
    "df = df[np.abs(df['GEN_eta'])>0.83]   \n",
    "    \n",
    "ptToPtCalibNN, xedges = plf.ptRecalibration(df, plot_dir, oneOverPt, \"NN_pt\")\n",
    "df[\"NN_pt_recalib\"] = plf.ptRecalibrated(df[\"NN_pt\"], ptToPtCalibNN, xedges)     "
   ]
  },
  {
   "cell_type": "markdown",
   "id": "0c55b321-460a-412c-ad0a-8b65bb0d27ac",
   "metadata": {},
   "source": [
    "### Make the plots"
   ]
  },
  {
   "cell_type": "code",
   "execution_count": null,
   "id": "d7e5cbc9-4bb5-4c4e-83de-8be3a269c994",
   "metadata": {},
   "outputs": [],
   "source": [
    "import plotting_functions as plf\n",
    "importlib.reload(plf)\n",
    "\n",
    "import utility_functions as utils\n",
    "importlib.reload(utils)\n",
    "\n",
    "fileName = job_dir+\"/performance.txt\"\n",
    "utils.calculateLossFunctions(df, fileName)\n",
    "\n",
    "plf.plotPtGenPtRec(df, plot_dir, oneOverPt)\n",
    "\n",
    "for ptCut in plf.ptCuts :\n",
    "    effStr, _, _ = plf.plotTurnOn(df, ptCut=ptCut, qualityCut = plf.qualityCut, plotDir=plot_dir)\n",
    "    utils.appendStringToFile(effStr, fileName)\n",
    "    print(effStr)\n",
    "\n",
    "ratesStr = plf.plotRate(df, plf.qualityCut, plotDir=plot_dir)\n",
    "print(\"rates NN\", ratesStr)\n",
    "\n",
    "utils.appendStringToFile(ratesStr, fileName)"
   ]
  },
  {
   "cell_type": "code",
   "execution_count": 126,
   "id": "8709e2ef-8517-4b27-b466-e0021e533079",
   "metadata": {},
   "outputs": [],
   "source": [
    "df[\"delta\"] = df[\"NN_pt\"] - df[\"GEN_pt\"]\n",
    "df[\"abs_delta\"] = np.abs(df[\"NN_pt\"] - df[\"GEN_pt\"])\n",
    "df[\"delta_square\"] = (df[\"NN_pt\"] - df[\"GEN_pt\"])**2\n",
    "df_grouped = df.groupby(by=binWidth+(df[\"GEN_pt\"]/binWidth).astype(int))"
   ]
  },
  {
   "cell_type": "code",
   "execution_count": null,
   "id": "4ee94e02-645c-4b05-896b-f12fc2e990cc",
   "metadata": {},
   "outputs": [
    {
     "name": "stdout",
     "output_type": "stream",
     "text": [
      "CPU times: user 4.15 s, sys: 123 ms, total: 4.28 s\n",
      "Wall time: 4.13 s\n"
     ]
    }
   ],
   "source": [
    "%%time\n",
    "import plotting_functions as plf\n",
    "importlib.reload(plf)\n",
    "plf.plotPtGenPtRec(df, plot_dir, oneOverPt)"
   ]
  },
  {
   "cell_type": "code",
   "execution_count": null,
   "id": "3f2466fa-1cc3-4a1b-b6b9-62e03cc3d254",
   "metadata": {},
   "outputs": [],
   "source": []
  }
 ],
 "metadata": {
  "kernelspec": {
   "display_name": "Python 3 (ipykernel)",
   "language": "python",
   "name": "python3"
  },
  "language_info": {
   "codemirror_mode": {
    "name": "ipython",
    "version": 3
   },
   "file_extension": ".py",
   "mimetype": "text/x-python",
   "name": "python",
   "nbconvert_exporter": "python",
   "pygments_lexer": "ipython3",
   "version": "3.8.10"
  }
 },
 "nbformat": 4,
 "nbformat_minor": 5
}
