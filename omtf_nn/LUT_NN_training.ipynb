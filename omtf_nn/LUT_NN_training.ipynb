{
 "cells": [
  {
   "cell_type": "markdown",
   "id": "d4e108fe-72a6-4053-bec2-af1a368594f2",
   "metadata": {},
   "source": [
    "## Environment setup"
   ]
  },
  {
   "cell_type": "code",
   "execution_count": 1,
   "id": "d419c1d5-26ec-42d6-a6fb-e076dd903666",
   "metadata": {},
   "outputs": [],
   "source": [
    "import glob, os, time\n",
    "from datetime import datetime\n",
    "import importlib\n",
    "\n",
    "import numpy as np\n",
    "\n",
    "import tensorflow as tf"
   ]
  },
  {
   "cell_type": "markdown",
   "id": "d5e9384f-3b1f-4210-b8cf-9cda27c00a8a",
   "metadata": {},
   "source": [
    "## Networks definitions and adaptations"
   ]
  },
  {
   "cell_type": "code",
   "execution_count": 2,
   "id": "9ef53a8d-4d7c-4d1d-b914-8429d43fa8bb",
   "metadata": {},
   "outputs": [
    {
     "name": "stdout",
     "output_type": "stream",
     "text": [
      "LUT NN definitions:\n",
      "layer1_lut_size 1024\n",
      "layer2_lut_size 256\n",
      "layer3_lut_size 32\n",
      "layer2_lutRangesCnt 16\n",
      "layer2_input_offset 8.0\n",
      "------------------------\n"
     ]
    }
   ],
   "source": [
    "from architecture_definitions import *\n",
    "\n",
    "oneOverPt = False \n",
    "lut_nn = True\n",
    "output_type = 0\n",
    "last_input_is_bias = True\n",
    "\n",
    "if output_type == 1:\n",
    "    layer3_neurons = 3\n",
    "    loss_fn = custom_loss3\n",
    "else: \n",
    "    output_cnt = 1\n",
    "    layer3_neurons = 1\n",
    "    loss_fn = 'mae'\n",
    "        \n",
    "if not last_input_is_bias:\n",
    "    networkInputSize =  nLayers\n",
    "    layer2_lutRangesCnt = 1\n",
    "    layer2_input_offset = None \n",
    " \n",
    "dir_postfix = get_lut_nn_dir_postfix() \n",
    "    \n",
    "print_LUT_NN()  "
   ]
  },
  {
   "cell_type": "markdown",
   "id": "630c86e0-bf1f-4a56-abf8-5762ea739a8f",
   "metadata": {},
   "source": [
    "### Training data set preparation"
   ]
  },
  {
   "cell_type": "code",
   "execution_count": 3,
   "id": "165627dd-9c1c-41ea-b97a-ff97949c379a",
   "metadata": {},
   "outputs": [
    {
     "name": "stdout",
     "output_type": "stream",
     "text": [
      "Reading data from files:\n",
      "/scratch_cmsse/alibordi/data/training/SingleMu_OneOverPt_April4_chunk_0_filtered.tfrecord.gzip\n",
      "/scratch_cmsse/alibordi/data/training/SingleMu_iPtX_April4_chunk_0_filtered.tfrecord.gzip\n",
      "/scratch_cmsse/alibordi/data/training/SingleMu_iPtX_Feb15_chunk_0_filtered.tfrecord.gzip\n",
      "/scratch_cmsse/alibordi/data/training/SingleMu_OneOverPt_Feb15_chunk_0_filtered.tfrecord.gzip\n",
      "/scratch_cmsse/alibordi/data/training/SingleMu_OneOverPt_Feb22_chunk_0_filtered.tfrecord.gzip\n"
     ]
    },
    {
     "name": "stderr",
     "output_type": "stream",
     "text": [
      "2023-04-19 11:02:56.064247: I tensorflow/stream_executor/cuda/cuda_gpu_executor.cc:975] successful NUMA node read from SysFS had negative value (-1), but there must be at least one NUMA node, so returning NUMA node zero\n",
      "2023-04-19 11:02:56.070954: I tensorflow/stream_executor/cuda/cuda_gpu_executor.cc:975] successful NUMA node read from SysFS had negative value (-1), but there must be at least one NUMA node, so returning NUMA node zero\n",
      "2023-04-19 11:02:56.071158: I tensorflow/stream_executor/cuda/cuda_gpu_executor.cc:975] successful NUMA node read from SysFS had negative value (-1), but there must be at least one NUMA node, so returning NUMA node zero\n",
      "2023-04-19 11:02:56.071840: I tensorflow/core/platform/cpu_feature_guard.cc:193] This TensorFlow binary is optimized with oneAPI Deep Neural Network Library (oneDNN) to use the following CPU instructions in performance-critical operations:  AVX2 FMA\n",
      "To enable them in other operations, rebuild TensorFlow with the appropriate compiler flags.\n",
      "2023-04-19 11:02:56.073172: I tensorflow/stream_executor/cuda/cuda_gpu_executor.cc:975] successful NUMA node read from SysFS had negative value (-1), but there must be at least one NUMA node, so returning NUMA node zero\n",
      "2023-04-19 11:02:56.073391: I tensorflow/stream_executor/cuda/cuda_gpu_executor.cc:975] successful NUMA node read from SysFS had negative value (-1), but there must be at least one NUMA node, so returning NUMA node zero\n",
      "2023-04-19 11:02:56.073563: I tensorflow/stream_executor/cuda/cuda_gpu_executor.cc:975] successful NUMA node read from SysFS had negative value (-1), but there must be at least one NUMA node, so returning NUMA node zero\n",
      "2023-04-19 11:02:56.479671: I tensorflow/stream_executor/cuda/cuda_gpu_executor.cc:975] successful NUMA node read from SysFS had negative value (-1), but there must be at least one NUMA node, so returning NUMA node zero\n",
      "2023-04-19 11:02:56.479796: I tensorflow/stream_executor/cuda/cuda_gpu_executor.cc:975] successful NUMA node read from SysFS had negative value (-1), but there must be at least one NUMA node, so returning NUMA node zero\n",
      "2023-04-19 11:02:56.479899: I tensorflow/stream_executor/cuda/cuda_gpu_executor.cc:975] successful NUMA node read from SysFS had negative value (-1), but there must be at least one NUMA node, so returning NUMA node zero\n",
      "2023-04-19 11:02:56.480026: I tensorflow/core/common_runtime/gpu/gpu_device.cc:1532] Created device /job:localhost/replica:0/task:0/device:GPU:0 with 6658 MB memory:  -> device: 0, name: NVIDIA GeForce RTX 2070 SUPER, pci bus id: 0000:01:00.0, compute capability: 7.5\n"
     ]
    }
   ],
   "source": [
    "import io_functions as io\n",
    "importlib.reload(io)\n",
    "\n",
    "batchSize = 4096\n",
    "nEpochs = 1\n",
    "\n",
    "#trainDataDir = \"/scratch_ssd/akalinow/ProgrammingProjects/MachineLearning/OMTF/data/18_12_2020/\"   \n",
    "trainDataDir = \"/home/kbunkow/cms_data/OMTF_data_2020/18_12_2020/\"\n",
    "trainFileNames = glob.glob(trainDataDir+'OMTFHits_pats0x0003_oldSample_files_*_chunk_0.tfrecord.gzip')\n",
    "\n",
    "trainDataDir = \"/scratch_cmsse/alibordi/data/training/\"\n",
    "#trainDataDir = \"/home/kbunkow/cms_data/SingleMu/TFRecord\"\n",
    "#trainDataDir = \"/eos/user/a/akalinow/Data/SingleMu/TFRecord/\"\n",
    "trainFileNames = glob.glob(trainDataDir+'*tfrecord.gzip')\n",
    "\n",
    "dataset = io.get_LUT_NN_dataset(batchSize, nEpochs, trainFileNames, \n",
    "                                nRefLayers=nRefLayers,\n",
    "                                layer1_lut_size=layer1_lut_size,\n",
    "                                layer2_lut_size=layer2_lut_size,\n",
    "                                layer2_lutRangesCnt=layer2_lutRangesCnt,\n",
    "                                last_input_is_bias=last_input_is_bias,\n",
    "                                rangeFactor=rangeFactor,\n",
    "                                isTrain=True)"
   ]
  },
  {
   "cell_type": "markdown",
   "id": "44abffd6-e9d9-47f0-9198-a84e8c7ac6b6",
   "metadata": {},
   "source": [
    "### Model definition"
   ]
  },
  {
   "cell_type": "code",
   "execution_count": 6,
   "id": "d414507a-ce56-42f5-8edf-0a4064d77c88",
   "metadata": {},
   "outputs": [
    {
     "name": "stdout",
     "output_type": "stream",
     "text": [
      "constructing LutInterLayer  layer1 lut_size 1024 num_inputs 19 num_outputs 16 input_offset 0 self.input_offset 0 last_input_is_bias True\n",
      "write_lut_hist False hist_writer None\n",
      "constructing LutInterLayer  layer2 lut_size 256 num_inputs 16 num_outputs 8 input_offset 8.0 self.input_offset 8.0 last_input_is_bias False\n",
      "write_lut_hist False hist_writer None\n",
      "constructing LutInterLayer  layer3 lut_size 32 num_inputs 8 num_outputs 1 input_offset None self.input_offset 15.5 last_input_is_bias False\n",
      "write_lut_hist False hist_writer None\n",
      "layer1 \n",
      "LutInterLayer.build: luts_float: layer1.luts_float:0 shape (18, 1024, 16)\n",
      "layer2 \n",
      "LutInterLayer.build: luts_float: layer2.luts_float:0 shape (16, 256, 8)\n",
      "layer3 \n",
      "LutInterLayer.build: luts_float: layer3.luts_float:0 shape (8, 32, 1)\n",
      "Model: \"sequential\"\n",
      "_________________________________________________________________\n",
      " Layer (type)                Output Shape              Param #   \n",
      "=================================================================\n",
      " layer1 (LutInterLayer)      (None, 16)                313344    \n",
      "                                                                 \n",
      " layer2 (LutInterLayer)      (None, 8)                 36864     \n",
      "                                                                 \n",
      " layer3 (LutInterLayer)      (None, 1)                 512       \n",
      "                                                                 \n",
      "=================================================================\n",
      "Total params: 350,720\n",
      "Trainable params: 327,936\n",
      "Non-trainable params: 22,784\n",
      "_________________________________________________________________\n"
     ]
    }
   ],
   "source": [
    "import model_functions as models\n",
    "importlib.reload(models)\n",
    "\n",
    "model = models.get_LUT_NN(last_input_is_bias=last_input_is_bias, loss_fn=loss_fn)\n",
    "model.summary()"
   ]
  },
  {
   "cell_type": "markdown",
   "id": "d42a01e5-c7aa-4f68-87f1-c6a4e6270723",
   "metadata": {},
   "source": [
    "### The training loop"
   ]
  },
  {
   "cell_type": "code",
   "execution_count": null,
   "id": "a48d01be-95ac-416b-8577-c23d3f8924b0",
   "metadata": {},
   "outputs": [
    {
     "name": "stdout",
     "output_type": "stream",
     "text": [
      "Training start. Current Time = 2023_Apr_19_11_06_06\n"
     ]
    },
    {
     "name": "stderr",
     "output_type": "stream",
     "text": [
      "2023-04-19 11:06:06.256497: I tensorflow/core/profiler/lib/profiler_session.cc:99] Profiler session initializing.\n",
      "2023-04-19 11:06:06.256521: I tensorflow/core/profiler/lib/profiler_session.cc:114] Profiler session started.\n",
      "2023-04-19 11:06:06.256548: I tensorflow/core/profiler/internal/gpu/cupti_tracer.cc:1665] Profiler found 1 GPUs\n",
      "2023-04-19 11:06:06.397810: I tensorflow/core/profiler/lib/profiler_session.cc:126] Profiler session tear down.\n",
      "2023-04-19 11:06:06.399521: I tensorflow/core/profiler/internal/gpu/cupti_tracer.cc:1799] CUPTI activity buffer flushed\n"
     ]
    },
    {
     "name": "stdout",
     "output_type": "stream",
     "text": [
      "Epoch 1/50\n",
      "     14/Unknown - 2s 24ms/step - loss: 26.3638"
     ]
    },
    {
     "name": "stderr",
     "output_type": "stream",
     "text": [
      "2023-04-19 11:06:07.920759: I tensorflow/core/profiler/lib/profiler_session.cc:99] Profiler session initializing.\n",
      "2023-04-19 11:06:07.920787: I tensorflow/core/profiler/lib/profiler_session.cc:114] Profiler session started.\n"
     ]
    },
    {
     "name": "stdout",
     "output_type": "stream",
     "text": [
      "     18/Unknown - 2s 26ms/step - loss: 25.7740"
     ]
    },
    {
     "name": "stderr",
     "output_type": "stream",
     "text": [
      "2023-04-19 11:06:08.281547: I tensorflow/core/profiler/lib/profiler_session.cc:66] Profiler session collecting data.\n",
      "2023-04-19 11:06:08.290126: I tensorflow/core/profiler/internal/gpu/cupti_tracer.cc:1799] CUPTI activity buffer flushed\n",
      "2023-04-19 11:06:08.597746: I tensorflow/core/profiler/internal/gpu/cupti_collector.cc:521]  GpuTracer has collected 1638 callback api events and 1617 activity events. \n",
      "2023-04-19 11:06:08.826227: I tensorflow/core/profiler/lib/profiler_session.cc:126] Profiler session tear down.\n",
      "2023-04-19 11:06:09.457334: I tensorflow/core/profiler/rpc/client/save_profile.cc:136] Creating directory: logs/fit/2023_Apr_19_11_06_06_lut_16_8_1/plugins/profile/2023_04_19_11_06_08\n",
      "\n",
      "2023-04-19 11:06:10.157641: I tensorflow/core/profiler/rpc/client/save_profile.cc:142] Dumped gzipped tool data for trace.json.gz to logs/fit/2023_Apr_19_11_06_06_lut_16_8_1/plugins/profile/2023_04_19_11_06_08/fba800be2533.trace.json.gz\n"
     ]
    },
    {
     "name": "stdout",
     "output_type": "stream",
     "text": [
      "     28/Unknown - 4s 103ms/step - loss: 24.7804"
     ]
    },
    {
     "name": "stderr",
     "output_type": "stream",
     "text": [
      "2023-04-19 11:06:10.407468: I tensorflow/core/profiler/rpc/client/save_profile.cc:136] Creating directory: logs/fit/2023_Apr_19_11_06_06_lut_16_8_1/plugins/profile/2023_04_19_11_06_08\n",
      "\n",
      "2023-04-19 11:06:10.413556: I tensorflow/core/profiler/rpc/client/save_profile.cc:142] Dumped gzipped tool data for memory_profile.json.gz to logs/fit/2023_Apr_19_11_06_06_lut_16_8_1/plugins/profile/2023_04_19_11_06_08/fba800be2533.memory_profile.json.gz\n",
      "2023-04-19 11:06:10.419421: I tensorflow/core/profiler/rpc/client/capture_profile.cc:251] Creating directory: logs/fit/2023_Apr_19_11_06_06_lut_16_8_1/plugins/profile/2023_04_19_11_06_08\n",
      "Dumped tool data for xplane.pb to logs/fit/2023_Apr_19_11_06_06_lut_16_8_1/plugins/profile/2023_04_19_11_06_08/fba800be2533.xplane.pb\n",
      "Dumped tool data for overview_page.pb to logs/fit/2023_Apr_19_11_06_06_lut_16_8_1/plugins/profile/2023_04_19_11_06_08/fba800be2533.overview_page.pb\n",
      "Dumped tool data for input_pipeline.pb to logs/fit/2023_Apr_19_11_06_06_lut_16_8_1/plugins/profile/2023_04_19_11_06_08/fba800be2533.input_pipeline.pb\n",
      "Dumped tool data for tensorflow_stats.pb to logs/fit/2023_Apr_19_11_06_06_lut_16_8_1/plugins/profile/2023_04_19_11_06_08/fba800be2533.tensorflow_stats.pb\n",
      "Dumped tool data for kernel_stats.pb to logs/fit/2023_Apr_19_11_06_06_lut_16_8_1/plugins/profile/2023_04_19_11_06_08/fba800be2533.kernel_stats.pb\n",
      "\n"
     ]
    },
    {
     "name": "stdout",
     "output_type": "stream",
     "text": [
      "770/770 [==============================] - 20s 25ms/step - loss: 122.8198 - val_loss: 5.4390\n",
      "Epoch 2/50\n",
      "770/770 [==============================] - 17s 22ms/step - loss: 101.9634 - val_loss: 5.6353\n",
      "Epoch 3/50\n",
      "770/770 [==============================] - 17s 22ms/step - loss: 89.1232 - val_loss: 5.7661\n",
      "Epoch 4/50\n",
      "770/770 [==============================] - 17s 22ms/step - loss: 79.9395 - val_loss: 5.7133\n",
      "Epoch 5/50\n",
      "770/770 [==============================] - 17s 22ms/step - loss: 72.0459 - val_loss: 5.8568\n",
      "Epoch 6/50\n",
      "770/770 [==============================] - 17s 22ms/step - loss: 67.0289 - val_loss: 5.9045\n",
      "Epoch 7/50\n",
      "463/770 [=================>............] - ETA: 6s - loss: 71.9290\n",
      "Epoch 7: saving model to training/2023_Apr_19_11_06_06_lut_16_8_1/cp-0007.ckpt\n",
      "770/770 [==============================] - 17s 22ms/step - loss: 63.9960 - val_loss: 5.8002\n",
      "Epoch 8/50\n",
      "770/770 [==============================] - 17s 21ms/step - loss: 62.2605 - val_loss: 5.8974\n",
      "Epoch 9/50\n",
      "770/770 [==============================] - 17s 22ms/step - loss: 61.3536 - val_loss: 6.0190\n",
      "Epoch 10/50\n",
      "770/770 [==============================] - 17s 21ms/step - loss: 60.7630 - val_loss: 5.6995\n",
      "Epoch 11/50\n",
      "770/770 [==============================] - 17s 21ms/step - loss: 60.4310 - val_loss: 5.6634\n",
      "Epoch 12/50\n",
      "770/770 [==============================] - 17s 21ms/step - loss: 60.0939 - val_loss: 5.6400\n",
      "Epoch 13/50\n",
      "770/770 [==============================] - 17s 21ms/step - loss: 59.8024 - val_loss: 5.7226\n",
      "Epoch 14/50\n",
      "157/770 [=====>........................] - ETA: 12s - loss: 28.7118\n",
      "Epoch 14: saving model to training/2023_Apr_19_11_06_06_lut_16_8_1/cp-0014.ckpt\n",
      "770/770 [==============================] - 17s 21ms/step - loss: 59.5931 - val_loss: 5.5362\n",
      "Epoch 15/50\n",
      "770/770 [==============================] - 17s 22ms/step - loss: 59.4339 - val_loss: 5.5725\n",
      "Epoch 16/50\n",
      "770/770 [==============================] - 17s 22ms/step - loss: 59.2846 - val_loss: 5.5703\n",
      "Epoch 17/50\n",
      "770/770 [==============================] - 17s 21ms/step - loss: 59.0942 - val_loss: 5.5796\n",
      "Epoch 18/50\n",
      "770/770 [==============================] - 17s 21ms/step - loss: 59.0256 - val_loss: 5.5320\n",
      "Epoch 19/50\n",
      "770/770 [==============================] - 17s 21ms/step - loss: 58.8861 - val_loss: 5.4856\n",
      "Epoch 20/50\n",
      "622/770 [=======================>......] - ETA: 3s - loss: 67.6616\n",
      "Epoch 20: saving model to training/2023_Apr_19_11_06_06_lut_16_8_1/cp-0020.ckpt\n",
      "770/770 [==============================] - 17s 22ms/step - loss: 58.8143 - val_loss: 5.5228\n",
      "Epoch 21/50\n",
      "770/770 [==============================] - 17s 21ms/step - loss: 58.7328 - val_loss: 5.5107\n",
      "Epoch 22/50\n",
      "770/770 [==============================] - 17s 22ms/step - loss: 58.6604 - val_loss: 5.4986\n",
      "Epoch 23/50\n",
      "770/770 [==============================] - 17s 22ms/step - loss: 58.6349 - val_loss: 5.5105\n",
      "Epoch 24/50\n",
      "770/770 [==============================] - 17s 21ms/step - loss: 58.5940 - val_loss: 5.5354\n",
      "Epoch 25/50\n",
      "770/770 [==============================] - 17s 22ms/step - loss: 58.5988 - val_loss: 5.5468\n",
      "Epoch 26/50\n",
      "770/770 [==============================] - 17s 21ms/step - loss: 58.6505 - val_loss: 5.5515\n",
      "Epoch 27/50\n",
      "318/770 [===========>..................] - ETA: 9s - loss: 57.8146\n",
      "Epoch 27: saving model to training/2023_Apr_19_11_06_06_lut_16_8_1/cp-0027.ckpt\n",
      "770/770 [==============================] - 17s 22ms/step - loss: 58.6548 - val_loss: 5.5625\n",
      "Epoch 28/50\n",
      "770/770 [==============================] - 17s 21ms/step - loss: 58.6903 - val_loss: 5.5702\n",
      "Epoch 29/50\n",
      "770/770 [==============================] - 17s 22ms/step - loss: 58.7403 - val_loss: 5.5695\n",
      "Epoch 30/50\n",
      "770/770 [==============================] - 17s 22ms/step - loss: 58.8238 - val_loss: 5.5981\n",
      "Epoch 31/50\n",
      "770/770 [==============================] - 17s 21ms/step - loss: 58.9181 - val_loss: 5.6194\n",
      "Epoch 32/50\n",
      "770/770 [==============================] - 17s 22ms/step - loss: 59.0456 - val_loss: 5.6479\n",
      "Epoch 33/50\n",
      "770/770 [==============================] - 17s 22ms/step - loss: 59.1885 - val_loss: 5.6790\n",
      "Epoch 34/50\n",
      " 13/770 [..............................] - ETA: 16s - loss: 5.3231\n",
      "Epoch 34: saving model to training/2023_Apr_19_11_06_06_lut_16_8_1/cp-0034.ckpt\n",
      "770/770 [==============================] - 17s 21ms/step - loss: 59.3025 - val_loss: 5.7144\n",
      "Epoch 35/50\n",
      "770/770 [==============================] - 17s 21ms/step - loss: 59.4310 - val_loss: 5.7490\n",
      "Epoch 36/50\n",
      "770/770 [==============================] - 17s 21ms/step - loss: 59.5412 - val_loss: 5.7917\n",
      "Epoch 37/50\n",
      "770/770 [==============================] - 17s 22ms/step - loss: 59.6520 - val_loss: 5.8207\n",
      "Epoch 38/50\n",
      "770/770 [==============================] - 17s 21ms/step - loss: 59.7927 - val_loss: 5.8833\n",
      "Epoch 39/50\n",
      "770/770 [==============================] - 17s 22ms/step - loss: 59.8880 - val_loss: 5.9554\n",
      "Epoch 40/50\n",
      "477/770 [=================>............] - ETA: 6s - loss: 68.5151\n",
      "Epoch 40: saving model to training/2023_Apr_19_11_06_06_lut_16_8_1/cp-0040.ckpt\n",
      "770/770 [==============================] - 18s 23ms/step - loss: 59.9816 - val_loss: 6.0208\n",
      "Epoch 41/50\n",
      "770/770 [==============================] - 17s 21ms/step - loss: 60.0925 - val_loss: 6.1165\n",
      "Epoch 42/50\n",
      "770/770 [==============================] - 17s 21ms/step - loss: 60.1704 - val_loss: 6.2224\n",
      "Epoch 43/50\n",
      "770/770 [==============================] - 17s 22ms/step - loss: 60.2573 - val_loss: 6.3422\n",
      "Epoch 44/50\n",
      "234/770 [========>.....................] - ETA: 11s - loss: 53.5034"
     ]
    }
   ],
   "source": [
    "%%time\n",
    "current_time = datetime.now().strftime(\"%Y_%b_%d_%H_%M_%S\")\n",
    "print(\"Training start. Current Time =\", current_time)\n",
    "\n",
    "nEpochs = 50\n",
    "\n",
    "log_dir = \"logs/fit/\" + current_time + dir_postfix\n",
    "job_dir = \"training/\" + current_time + dir_postfix\n",
    "\n",
    "checkpoint_path = job_dir + \"/cp-{epoch:04d}.ckpt\"\n",
    "checkpoint_dir = os.path.dirname(checkpoint_path)\n",
    "\n",
    "cp_callback = tf.keras.callbacks.ModelCheckpoint(filepath=checkpoint_path,\n",
    "                                                 save_weights_only=True,\n",
    "                                                 verbose=1,\n",
    "                                                 save_freq = 5085)\n",
    "tensorboard_callback = tf.keras.callbacks.TensorBoard(log_dir=log_dir, histogram_freq=1, profile_batch=(10, 20))\n",
    "early_stop_callback = tf.keras.callbacks.EarlyStopping(patience=5, verbose=1)\n",
    "callbacks =  [tensorboard_callback, cp_callback, early_stop_callback]\n",
    "\n",
    "model.save_weights(checkpoint_path.format(epoch=0))\n",
    "   \n",
    "model.fit(dataset.skip(10), \n",
    "          epochs=nEpochs, shuffle=True,\n",
    "          callbacks=[tensorboard_callback, cp_callback],\n",
    "          validation_data = dataset.take(10)\n",
    "            )\n",
    "model.save(job_dir, save_format='tf')\n",
    "\n",
    "current_time = datetime.now().strftime(\"%Y_%b_%d_%H_%M_%S\")\n",
    "print(\"Training end. Current Time =\", current_time)"
   ]
  },
  {
   "cell_type": "code",
   "execution_count": null,
   "id": "9b7df34b-7296-4e0f-878c-cffe6e277b9d",
   "metadata": {},
   "outputs": [],
   "source": []
  }
 ],
 "metadata": {
  "kernelspec": {
   "display_name": "Python 3 (ipykernel)",
   "language": "python",
   "name": "python3"
  },
  "language_info": {
   "codemirror_mode": {
    "name": "ipython",
    "version": 3
   },
   "file_extension": ".py",
   "mimetype": "text/x-python",
   "name": "python",
   "nbconvert_exporter": "python",
   "pygments_lexer": "ipython3",
   "version": "3.8.10"
  }
 },
 "nbformat": 4,
 "nbformat_minor": 5
}
