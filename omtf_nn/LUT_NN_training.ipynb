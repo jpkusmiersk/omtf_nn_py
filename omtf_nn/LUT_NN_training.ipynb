{
 "cells": [
  {
   "cell_type": "markdown",
   "id": "d4e108fe-72a6-4053-bec2-af1a368594f2",
   "metadata": {},
   "source": [
    "## Environment setup"
   ]
  },
  {
   "cell_type": "code",
   "execution_count": 1,
   "id": "d419c1d5-26ec-42d6-a6fb-e076dd903666",
   "metadata": {},
   "outputs": [],
   "source": [
    "import glob, os, time\n",
    "from datetime import datetime\n",
    "import importlib\n",
    "\n",
    "import numpy as np\n",
    "\n",
    "import tensorflow as tf"
   ]
  },
  {
   "cell_type": "markdown",
   "id": "d5e9384f-3b1f-4210-b8cf-9cda27c00a8a",
   "metadata": {},
   "source": [
    "## Networks definitions and adaptations"
   ]
  },
  {
   "cell_type": "code",
   "execution_count": 2,
   "id": "9ef53a8d-4d7c-4d1d-b914-8429d43fa8bb",
   "metadata": {},
   "outputs": [
    {
     "name": "stdout",
     "output_type": "stream",
     "text": [
      "LUT NN definitions:\n",
      "layer1_lut_size 1024\n",
      "layer2_lut_size 256\n",
      "layer3_lut_size 32\n",
      "layer2_lutRangesCnt 16\n",
      "layer2_input_offset 8.0\n",
      "------------------------\n"
     ]
    }
   ],
   "source": [
    "from architecture_definitions import *\n",
    "\n",
    "oneOverPt = False \n",
    "lut_nn = True\n",
    "output_type = 0\n",
    "last_input_is_bias = True\n",
    "\n",
    "if output_type == 1:\n",
    "    layer3_neurons = 3\n",
    "    loss_fn = custom_loss3\n",
    "else: \n",
    "    output_cnt = 1\n",
    "    layer3_neurons = 1\n",
    "    loss_fn = 'mae'\n",
    "        \n",
    "if not last_input_is_bias:\n",
    "    networkInputSize =  nLayers\n",
    "    layer2_lutRangesCnt = 1\n",
    "    layer2_input_offset = None \n",
    " \n",
    "dir_postfix = get_lut_nn_dir_postfix() \n",
    "    \n",
    "print_LUT_NN()  "
   ]
  },
  {
   "cell_type": "markdown",
   "id": "630c86e0-bf1f-4a56-abf8-5762ea739a8f",
   "metadata": {},
   "source": [
    "### Training data set preparation"
   ]
  },
  {
   "cell_type": "code",
   "execution_count": 3,
   "id": "165627dd-9c1c-41ea-b97a-ff97949c379a",
   "metadata": {},
   "outputs": [
    {
     "name": "stdout",
     "output_type": "stream",
     "text": [
      "Reading data from files:\n",
      "/scratch_cmsse/alibordi/data/training/SingleMu_OneOverPt_April4_chunk_0_filtered.tfrecord.gzip\n",
      "/scratch_cmsse/alibordi/data/training/SingleMu_iPtX_April4_chunk_0_filtered.tfrecord.gzip\n",
      "/scratch_cmsse/alibordi/data/training/SingleMu_iPtX_Feb15_chunk_0_filtered.tfrecord.gzip\n",
      "/scratch_cmsse/alibordi/data/training/SingleMu_OneOverPt_Feb15_chunk_0_filtered.tfrecord.gzip\n",
      "/scratch_cmsse/alibordi/data/training/SingleMu_OneOverPt_Feb22_chunk_0_filtered.tfrecord.gzip\n"
     ]
    },
    {
     "name": "stderr",
     "output_type": "stream",
     "text": [
      "2023-04-19 10:37:46.764089: I tensorflow/stream_executor/cuda/cuda_gpu_executor.cc:975] successful NUMA node read from SysFS had negative value (-1), but there must be at least one NUMA node, so returning NUMA node zero\n",
      "2023-04-19 10:37:46.767811: I tensorflow/stream_executor/cuda/cuda_gpu_executor.cc:975] successful NUMA node read from SysFS had negative value (-1), but there must be at least one NUMA node, so returning NUMA node zero\n",
      "2023-04-19 10:37:46.767937: I tensorflow/stream_executor/cuda/cuda_gpu_executor.cc:975] successful NUMA node read from SysFS had negative value (-1), but there must be at least one NUMA node, so returning NUMA node zero\n",
      "2023-04-19 10:37:46.768531: I tensorflow/core/platform/cpu_feature_guard.cc:193] This TensorFlow binary is optimized with oneAPI Deep Neural Network Library (oneDNN) to use the following CPU instructions in performance-critical operations:  AVX2 FMA\n",
      "To enable them in other operations, rebuild TensorFlow with the appropriate compiler flags.\n",
      "2023-04-19 10:37:46.769408: I tensorflow/stream_executor/cuda/cuda_gpu_executor.cc:975] successful NUMA node read from SysFS had negative value (-1), but there must be at least one NUMA node, so returning NUMA node zero\n",
      "2023-04-19 10:37:46.769533: I tensorflow/stream_executor/cuda/cuda_gpu_executor.cc:975] successful NUMA node read from SysFS had negative value (-1), but there must be at least one NUMA node, so returning NUMA node zero\n",
      "2023-04-19 10:37:46.769637: I tensorflow/stream_executor/cuda/cuda_gpu_executor.cc:975] successful NUMA node read from SysFS had negative value (-1), but there must be at least one NUMA node, so returning NUMA node zero\n",
      "2023-04-19 10:37:47.169234: I tensorflow/stream_executor/cuda/cuda_gpu_executor.cc:975] successful NUMA node read from SysFS had negative value (-1), but there must be at least one NUMA node, so returning NUMA node zero\n",
      "2023-04-19 10:37:47.169359: I tensorflow/stream_executor/cuda/cuda_gpu_executor.cc:975] successful NUMA node read from SysFS had negative value (-1), but there must be at least one NUMA node, so returning NUMA node zero\n",
      "2023-04-19 10:37:47.169456: I tensorflow/stream_executor/cuda/cuda_gpu_executor.cc:975] successful NUMA node read from SysFS had negative value (-1), but there must be at least one NUMA node, so returning NUMA node zero\n",
      "2023-04-19 10:37:47.169535: I tensorflow/core/common_runtime/gpu/gpu_device.cc:1532] Created device /job:localhost/replica:0/task:0/device:GPU:0 with 6658 MB memory:  -> device: 0, name: NVIDIA GeForce RTX 2070 SUPER, pci bus id: 0000:01:00.0, compute capability: 7.5\n"
     ]
    }
   ],
   "source": [
    "import io_functions as io\n",
    "importlib.reload(io)\n",
    "\n",
    "batchSize = 4096\n",
    "nEpochs = 1\n",
    "\n",
    "#trainDataDir = \"/scratch_ssd/akalinow/ProgrammingProjects/MachineLearning/OMTF/data/18_12_2020/\"   \n",
    "trainDataDir = \"/home/kbunkow/cms_data/OMTF_data_2020/18_12_2020/\"\n",
    "trainFileNames = glob.glob(trainDataDir+'OMTFHits_pats0x0003_oldSample_files_*_chunk_0.tfrecord.gzip')\n",
    "\n",
    "trainDataDir = \"/scratch_cmsse/alibordi/data/training/\"\n",
    "#trainDataDir = \"/home/kbunkow/cms_data/SingleMu/TFRecord\"\n",
    "#trainDataDir = \"/eos/user/a/akalinow/Data/SingleMu/TFRecord/\"\n",
    "trainFileNames = glob.glob(trainDataDir+'*tfrecord.gzip')\n",
    "\n",
    "trainFileNames= glob.glob(trainDataDir+'*tfrecord.gzip')\n",
    "\n",
    "dataset = io.get_LUT_NN_dataset(batchSize, nEpochs, trainFileNames, \n",
    "                                nRefLayers=nRefLayers,\n",
    "                                layer1_lut_size=layer1_lut_size,\n",
    "                                layer2_lut_size=layer2_lut_size,\n",
    "                                layer2_lutRangesCnt=layer2_lutRangesCnt,\n",
    "                                last_input_is_bias=last_input_is_bias,\n",
    "                                rangeFactor=rangeFactor,\n",
    "                                isTrain=True)"
   ]
  },
  {
   "cell_type": "markdown",
   "id": "44abffd6-e9d9-47f0-9198-a84e8c7ac6b6",
   "metadata": {},
   "source": [
    "### Model definition"
   ]
  },
  {
   "cell_type": "code",
   "execution_count": 4,
   "id": "d414507a-ce56-42f5-8edf-0a4064d77c88",
   "metadata": {},
   "outputs": [
    {
     "name": "stdout",
     "output_type": "stream",
     "text": [
      "constructing LutInterLayer  layer1 lut_size 1024 num_inputs 19 num_outputs 16 input_offset 0 self.input_offset 0 last_input_is_bias True\n",
      "write_lut_hist False hist_writer None\n",
      "constructing LutInterLayer  layer2 lut_size 256 num_inputs 16 num_outputs 8 input_offset 8.0 self.input_offset 8.0 last_input_is_bias False\n",
      "write_lut_hist False hist_writer None\n",
      "constructing LutInterLayer  layer3 lut_size 32 num_inputs 8 num_outputs 1 input_offset None self.input_offset 15.5 last_input_is_bias False\n",
      "write_lut_hist False hist_writer None\n",
      "layer1 \n",
      "LutInterLayer.build: luts_float: layer1.luts_float:0 shape (18, 1024, 16)\n",
      "layer2 \n",
      "LutInterLayer.build: luts_float: layer2.luts_float:0 shape (16, 256, 8)\n",
      "layer3 \n",
      "LutInterLayer.build: luts_float: layer3.luts_float:0 shape (8, 32, 1)\n",
      "Model: \"sequential\"\n",
      "_________________________________________________________________\n",
      " Layer (type)                Output Shape              Param #   \n",
      "=================================================================\n",
      " layer1 (LutInterLayer)      (None, 16)                313344    \n",
      "                                                                 \n",
      " layer2 (LutInterLayer)      (None, 8)                 36864     \n",
      "                                                                 \n",
      " layer3 (LutInterLayer)      (None, 1)                 512       \n",
      "                                                                 \n",
      "=================================================================\n",
      "Total params: 350,720\n",
      "Trainable params: 327,936\n",
      "Non-trainable params: 22,784\n",
      "_________________________________________________________________\n"
     ]
    }
   ],
   "source": [
    "import model_functions as models\n",
    "importlib.reload(models)\n",
    "\n",
    "model = models.get_LUT_NN(last_input_is_bias=last_input_is_bias, loss_fn=loss_fn)\n",
    "model.summary()"
   ]
  },
  {
   "cell_type": "markdown",
   "id": "d42a01e5-c7aa-4f68-87f1-c6a4e6270723",
   "metadata": {},
   "source": [
    "### The training loop"
   ]
  },
  {
   "cell_type": "code",
   "execution_count": 5,
   "id": "a48d01be-95ac-416b-8577-c23d3f8924b0",
   "metadata": {},
   "outputs": [
    {
     "name": "stdout",
     "output_type": "stream",
     "text": [
      "Training start. Current Time = 2023_Apr_19_10_38_00\n"
     ]
    },
    {
     "name": "stderr",
     "output_type": "stream",
     "text": [
      "2023-04-19 10:38:00.882281: I tensorflow/core/profiler/lib/profiler_session.cc:99] Profiler session initializing.\n",
      "2023-04-19 10:38:00.882306: I tensorflow/core/profiler/lib/profiler_session.cc:114] Profiler session started.\n",
      "2023-04-19 10:38:00.882334: I tensorflow/core/profiler/internal/gpu/cupti_tracer.cc:1665] Profiler found 1 GPUs\n",
      "2023-04-19 10:38:01.002828: I tensorflow/core/profiler/lib/profiler_session.cc:126] Profiler session tear down.\n",
      "2023-04-19 10:38:01.004804: I tensorflow/core/profiler/internal/gpu/cupti_tracer.cc:1799] CUPTI activity buffer flushed\n"
     ]
    },
    {
     "name": "stdout",
     "output_type": "stream",
     "text": [
      "Epoch 1/50\n",
      "     16/Unknown - 2s 23ms/step - loss: 25.4843"
     ]
    },
    {
     "name": "stderr",
     "output_type": "stream",
     "text": [
      "2023-04-19 10:38:02.451935: I tensorflow/core/profiler/lib/profiler_session.cc:99] Profiler session initializing.\n",
      "2023-04-19 10:38:02.451955: I tensorflow/core/profiler/lib/profiler_session.cc:114] Profiler session started.\n"
     ]
    },
    {
     "name": "stdout",
     "output_type": "stream",
     "text": [
      "     18/Unknown - 2s 24ms/step - loss: 25.1819"
     ]
    },
    {
     "name": "stderr",
     "output_type": "stream",
     "text": [
      "2023-04-19 10:38:02.773877: I tensorflow/core/profiler/lib/profiler_session.cc:66] Profiler session collecting data.\n",
      "2023-04-19 10:38:02.783398: I tensorflow/core/profiler/internal/gpu/cupti_tracer.cc:1799] CUPTI activity buffer flushed\n",
      "2023-04-19 10:38:03.112826: I tensorflow/core/profiler/internal/gpu/cupti_collector.cc:521]  GpuTracer has collected 1638 callback api events and 1617 activity events. \n",
      "2023-04-19 10:38:03.391903: I tensorflow/core/profiler/lib/profiler_session.cc:126] Profiler session tear down.\n",
      "2023-04-19 10:38:04.087463: I tensorflow/core/profiler/rpc/client/save_profile.cc:136] Creating directory: logs/fit/2023_Apr_19_10_38_00_lut_16_8_1/plugins/profile/2023_04_19_10_38_03\n",
      "\n",
      "2023-04-19 10:38:04.840789: I tensorflow/core/profiler/rpc/client/save_profile.cc:142] Dumped gzipped tool data for trace.json.gz to logs/fit/2023_Apr_19_10_38_00_lut_16_8_1/plugins/profile/2023_04_19_10_38_03/fba800be2533.trace.json.gz\n"
     ]
    },
    {
     "name": "stdout",
     "output_type": "stream",
     "text": [
      "     30/Unknown - 4s 104ms/step - loss: 23.8715"
     ]
    },
    {
     "name": "stderr",
     "output_type": "stream",
     "text": [
      "2023-04-19 10:38:05.126692: I tensorflow/core/profiler/rpc/client/save_profile.cc:136] Creating directory: logs/fit/2023_Apr_19_10_38_00_lut_16_8_1/plugins/profile/2023_04_19_10_38_03\n",
      "\n",
      "2023-04-19 10:38:05.132811: I tensorflow/core/profiler/rpc/client/save_profile.cc:142] Dumped gzipped tool data for memory_profile.json.gz to logs/fit/2023_Apr_19_10_38_00_lut_16_8_1/plugins/profile/2023_04_19_10_38_03/fba800be2533.memory_profile.json.gz\n",
      "2023-04-19 10:38:05.139071: I tensorflow/core/profiler/rpc/client/capture_profile.cc:251] Creating directory: logs/fit/2023_Apr_19_10_38_00_lut_16_8_1/plugins/profile/2023_04_19_10_38_03\n",
      "Dumped tool data for xplane.pb to logs/fit/2023_Apr_19_10_38_00_lut_16_8_1/plugins/profile/2023_04_19_10_38_03/fba800be2533.xplane.pb\n",
      "Dumped tool data for overview_page.pb to logs/fit/2023_Apr_19_10_38_00_lut_16_8_1/plugins/profile/2023_04_19_10_38_03/fba800be2533.overview_page.pb\n",
      "Dumped tool data for input_pipeline.pb to logs/fit/2023_Apr_19_10_38_00_lut_16_8_1/plugins/profile/2023_04_19_10_38_03/fba800be2533.input_pipeline.pb\n",
      "Dumped tool data for tensorflow_stats.pb to logs/fit/2023_Apr_19_10_38_00_lut_16_8_1/plugins/profile/2023_04_19_10_38_03/fba800be2533.tensorflow_stats.pb\n",
      "Dumped tool data for kernel_stats.pb to logs/fit/2023_Apr_19_10_38_00_lut_16_8_1/plugins/profile/2023_04_19_10_38_03/fba800be2533.kernel_stats.pb\n",
      "\n"
     ]
    },
    {
     "name": "stdout",
     "output_type": "stream",
     "text": [
      "770/770 [==============================] - 21s 25ms/step - loss: 122.2189 - val_loss: 5.6889\n",
      "Epoch 2/50\n",
      "770/770 [==============================] - 17s 22ms/step - loss: 99.6813 - val_loss: 5.6738\n",
      "Epoch 3/50\n",
      "770/770 [==============================] - 17s 22ms/step - loss: 87.3952 - val_loss: 5.8591\n",
      "Epoch 4/50\n",
      "770/770 [==============================] - 17s 21ms/step - loss: 83.8670 - val_loss: 5.8694\n",
      "Epoch 5/50\n",
      "770/770 [==============================] - 17s 21ms/step - loss: 77.8004 - val_loss: 5.7978\n",
      "Epoch 6/50\n",
      "770/770 [==============================] - 17s 22ms/step - loss: 72.5945 - val_loss: 5.9300\n",
      "Epoch 7/50\n",
      "462/770 [=================>............] - ETA: 6s - loss: 77.5688\n",
      "Epoch 7: saving model to training/2023_Apr_19_10_38_00_lut_16_8_1/cp-0007.ckpt\n",
      "770/770 [==============================] - 17s 21ms/step - loss: 68.6390 - val_loss: 5.8790\n",
      "Epoch 8/50\n",
      "770/770 [==============================] - 17s 21ms/step - loss: 65.3395 - val_loss: 6.0199\n",
      "Epoch 9/50\n",
      "770/770 [==============================] - 17s 22ms/step - loss: 63.2930 - val_loss: 5.9339\n",
      "Epoch 10/50\n",
      "770/770 [==============================] - 17s 22ms/step - loss: 62.0871 - val_loss: 6.1177\n",
      "Epoch 11/50\n",
      "770/770 [==============================] - 17s 21ms/step - loss: 61.2976 - val_loss: 5.7865\n",
      "Epoch 12/50\n",
      "770/770 [==============================] - 17s 22ms/step - loss: 60.8063 - val_loss: 5.9135\n",
      "Epoch 13/50\n",
      "770/770 [==============================] - 17s 21ms/step - loss: 60.3728 - val_loss: 5.7800\n",
      "Epoch 14/50\n",
      "159/770 [=====>........................] - ETA: 12s - loss: 29.8739\n",
      "Epoch 14: saving model to training/2023_Apr_19_10_38_00_lut_16_8_1/cp-0014.ckpt\n",
      "770/770 [==============================] - 17s 21ms/step - loss: 60.0838 - val_loss: 5.7391\n",
      "Epoch 15/50\n",
      "770/770 [==============================] - 17s 22ms/step - loss: 59.8262 - val_loss: 5.7260\n",
      "Epoch 16/50\n",
      "770/770 [==============================] - 17s 22ms/step - loss: 59.6139 - val_loss: 5.6690\n",
      "Epoch 17/50\n",
      "770/770 [==============================] - 17s 22ms/step - loss: 59.4298 - val_loss: 5.6431\n",
      "Epoch 18/50\n",
      "770/770 [==============================] - 17s 21ms/step - loss: 59.2861 - val_loss: 5.6562\n",
      "Epoch 19/50\n",
      "770/770 [==============================] - 17s 21ms/step - loss: 59.1580 - val_loss: 5.6216\n",
      "Epoch 20/50\n",
      "623/770 [=======================>......] - ETA: 3s - loss: 67.9123\n",
      "Epoch 20: saving model to training/2023_Apr_19_10_38_00_lut_16_8_1/cp-0020.ckpt\n",
      "770/770 [==============================] - 16s 21ms/step - loss: 59.0629 - val_loss: 5.5919\n",
      "Epoch 21/50\n",
      "770/770 [==============================] - 17s 22ms/step - loss: 58.9748 - val_loss: 5.6371\n",
      "Epoch 22/50\n",
      "770/770 [==============================] - 17s 22ms/step - loss: 58.9041 - val_loss: 5.6025\n",
      "Epoch 23/50\n",
      "770/770 [==============================] - 17s 22ms/step - loss: 58.8621 - val_loss: 5.5837\n",
      "Epoch 24/50\n",
      "770/770 [==============================] - 17s 22ms/step - loss: 58.8161 - val_loss: 5.5932\n",
      "Epoch 25/50\n",
      "770/770 [==============================] - 17s 22ms/step - loss: 58.7950 - val_loss: 5.5969\n",
      "Epoch 26/50\n",
      "770/770 [==============================] - 17s 22ms/step - loss: 58.7757 - val_loss: 5.5828\n",
      "Epoch 27/50\n",
      "319/770 [===========>..................] - ETA: 9s - loss: 57.7739\n",
      "Epoch 27: saving model to training/2023_Apr_19_10_38_00_lut_16_8_1/cp-0027.ckpt\n",
      "770/770 [==============================] - 17s 22ms/step - loss: 58.7815 - val_loss: 5.6067\n",
      "Epoch 28/50\n",
      "770/770 [==============================] - 17s 22ms/step - loss: 58.8073 - val_loss: 5.6235\n",
      "Epoch 29/50\n",
      "770/770 [==============================] - 17s 22ms/step - loss: 58.8427 - val_loss: 5.6312\n",
      "Epoch 30/50\n",
      "770/770 [==============================] - 17s 22ms/step - loss: 58.9124 - val_loss: 5.6532\n",
      "Epoch 31/50\n",
      "770/770 [==============================] - 17s 22ms/step - loss: 58.9725 - val_loss: 5.6692\n",
      "Epoch 32/50\n",
      "770/770 [==============================] - 17s 22ms/step - loss: 59.0479 - val_loss: 5.6905\n",
      "Epoch 33/50\n",
      "770/770 [==============================] - 17s 21ms/step - loss: 59.1648 - val_loss: 5.7238\n",
      "Epoch 34/50\n",
      " 13/770 [..............................] - ETA: 15s - loss: 5.3553\n",
      "Epoch 34: saving model to training/2023_Apr_19_10_38_00_lut_16_8_1/cp-0034.ckpt\n",
      "770/770 [==============================] - 17s 22ms/step - loss: 59.2736 - val_loss: 5.7607\n",
      "Epoch 35/50\n",
      "770/770 [==============================] - 17s 21ms/step - loss: 59.3892 - val_loss: 5.7979\n",
      "Epoch 36/50\n",
      "770/770 [==============================] - 17s 21ms/step - loss: 59.5317 - val_loss: 5.8539\n",
      "Epoch 37/50\n",
      "770/770 [==============================] - 17s 22ms/step - loss: 59.6702 - val_loss: 5.9275\n",
      "Epoch 38/50\n",
      "770/770 [==============================] - 17s 22ms/step - loss: 59.8041 - val_loss: 6.0059\n",
      "Epoch 39/50\n",
      "770/770 [==============================] - 17s 21ms/step - loss: 59.9572 - val_loss: 6.0957\n",
      "Epoch 40/50\n",
      "478/770 [=================>............] - ETA: 6s - loss: 68.5899\n",
      "Epoch 40: saving model to training/2023_Apr_19_10_38_00_lut_16_8_1/cp-0040.ckpt\n",
      "770/770 [==============================] - 17s 22ms/step - loss: 60.0769 - val_loss: 6.1857\n",
      "Epoch 41/50\n",
      "770/770 [==============================] - 17s 22ms/step - loss: 60.1719 - val_loss: 6.2862\n",
      "Epoch 42/50\n",
      "770/770 [==============================] - 16s 21ms/step - loss: 60.2482 - val_loss: 6.3782\n",
      "Epoch 43/50\n",
      "770/770 [==============================] - 17s 21ms/step - loss: 60.3542 - val_loss: 6.4787\n",
      "Epoch 44/50\n",
      "770/770 [==============================] - 17s 22ms/step - loss: 60.3806 - val_loss: 6.5759\n",
      "Epoch 45/50\n",
      "770/770 [==============================] - 17s 21ms/step - loss: 60.3883 - val_loss: 6.6900\n",
      "Epoch 46/50\n",
      "770/770 [==============================] - 17s 22ms/step - loss: 60.3959 - val_loss: 6.8121\n",
      "Epoch 47/50\n",
      "172/770 [=====>........................] - ETA: 12s - loss: 39.4251\n",
      "Epoch 47: saving model to training/2023_Apr_19_10_38_00_lut_16_8_1/cp-0047.ckpt\n",
      "770/770 [==============================] - 17s 22ms/step - loss: 60.4062 - val_loss: 6.9481\n",
      "Epoch 48/50\n",
      "770/770 [==============================] - 17s 22ms/step - loss: 60.3815 - val_loss: 7.0868\n",
      "Epoch 49/50\n",
      "770/770 [==============================] - 17s 22ms/step - loss: 60.3712 - val_loss: 7.2423\n",
      "Epoch 50/50\n",
      "770/770 [==============================] - 17s 22ms/step - loss: 60.3125 - val_loss: 7.4026\n",
      "INFO:tensorflow:Assets written to: training/2023_Apr_19_10_38_00_lut_16_8_1/assets\n",
      "Training end. Current Time = 2023_Apr_19_10_52_09\n",
      "CPU times: user 49min 34s, sys: 11min 40s, total: 1h 1min 15s\n",
      "Wall time: 14min 9s\n"
     ]
    }
   ],
   "source": [
    "%%time\n",
    "current_time = datetime.now().strftime(\"%Y_%b_%d_%H_%M_%S\")\n",
    "print(\"Training start. Current Time =\", current_time)\n",
    "\n",
    "nEpochs = 50\n",
    "\n",
    "log_dir = \"logs/fit/\" + current_time + dir_postfix\n",
    "job_dir = \"training/\" + current_time + dir_postfix\n",
    "\n",
    "checkpoint_path = job_dir + \"/cp-{epoch:04d}.ckpt\"\n",
    "checkpoint_dir = os.path.dirname(checkpoint_path)\n",
    "\n",
    "cp_callback = tf.keras.callbacks.ModelCheckpoint(filepath=checkpoint_path,\n",
    "                                                 save_weights_only=True,\n",
    "                                                 verbose=1,\n",
    "                                                 save_freq = 5085)\n",
    "tensorboard_callback = tf.keras.callbacks.TensorBoard(log_dir=log_dir, histogram_freq=1, profile_batch=(10, 20))\n",
    "early_stop_callback = tf.keras.callbacks.EarlyStopping(patience=5, verbose=1)\n",
    "callbacks =  [tensorboard_callback, cp_callback, early_stop_callback]\n",
    "\n",
    "model.save_weights(checkpoint_path.format(epoch=0))\n",
    "   \n",
    "model.fit(dataset.skip(10), \n",
    "          epochs=nEpochs, shuffle=True,\n",
    "          callbacks=[tensorboard_callback, cp_callback],\n",
    "          validation_data = dataset.take(10)\n",
    "            )\n",
    "model.save(job_dir, save_format='tf')\n",
    "\n",
    "current_time = datetime.now().strftime(\"%Y_%b_%d_%H_%M_%S\")\n",
    "print(\"Training end. Current Time =\", current_time)"
   ]
  },
  {
   "cell_type": "code",
   "execution_count": null,
   "id": "079be7a4-1270-4916-b798-bdaa00001094",
   "metadata": {},
   "outputs": [],
   "source": []
  }
 ],
 "metadata": {
  "kernelspec": {
   "display_name": "Python 3 (ipykernel)",
   "language": "python",
   "name": "python3"
  },
  "language_info": {
   "codemirror_mode": {
    "name": "ipython",
    "version": 3
   },
   "file_extension": ".py",
   "mimetype": "text/x-python",
   "name": "python",
   "nbconvert_exporter": "python",
   "pygments_lexer": "ipython3",
   "version": "3.8.10"
  }
 },
 "nbformat": 4,
 "nbformat_minor": 5
}
